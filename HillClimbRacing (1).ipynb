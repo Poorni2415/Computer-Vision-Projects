{
 "cells": [
  {
   "cell_type": "code",
   "execution_count": 4,
   "id": "052d8981-21f1-4e18-9ee8-6ca3ad716491",
   "metadata": {},
   "outputs": [
    {
     "name": "stdout",
     "output_type": "stream",
     "text": [
      "Collecting pydirectinput\n",
      "  Downloading PyDirectInput-1.0.4-py3-none-any.whl.metadata (3.9 kB)\n",
      "Downloading PyDirectInput-1.0.4-py3-none-any.whl (8.9 kB)\n",
      "Installing collected packages: pydirectinput\n",
      "Successfully installed pydirectinput-1.0.4\n",
      "Note: you may need to restart the kernel to use updated packages.\n"
     ]
    }
   ],
   "source": [
    "pip install pydirectinput"
   ]
  },
  {
   "cell_type": "code",
   "execution_count": 2,
   "id": "361fee37-4663-4425-a30e-f6a98299faa5",
   "metadata": {},
   "outputs": [],
   "source": [
    "import mediapipe as mp\n",
    "import cv2\n",
    "import pydirectinput"
   ]
  },
  {
   "cell_type": "code",
   "execution_count": 3,
   "id": "58253afe-a0b7-45df-aa16-9d78c589e9d9",
   "metadata": {},
   "outputs": [],
   "source": [
    "mp_drawing = mp.solutions.drawing_utils\n",
    "mp_holistic = mp.solutions.holistic\n",
    "mp_pose=mp.solutions.pose"
   ]
  },
  {
   "cell_type": "code",
   "execution_count": 4,
   "id": "bdeb5b4c-e90b-4115-a415-c71654e8cede",
   "metadata": {},
   "outputs": [],
   "source": [
    "cap = cv2.VideoCapture(0)\n",
    "cap.set(3,560)\n",
    "cap.set(4,400)\n",
    "with mp_holistic.Holistic(min_detection_confidence=0.5,min_tracking_confidence=0.5) as holistic:\n",
    "    while cap.isOpened():\n",
    "        ret,image=cap.read()\n",
    "        if not ret:\n",
    "            break\n",
    "        img=cv2.flip(image,1)\n",
    "        frame=cv2.cvtColor(image,cv2.COLOR_BGR2RGB)\n",
    "        results=holistic.process(frame)\n",
    "        frame=cv2.cvtColor(image,cv2.COLOR_RGB2BGR)\n",
    "        height,width,_=image.shape\n",
    "        y_mid=height//2\n",
    "        pose=\"move\"\n",
    "        \n",
    "        try:\n",
    "            if results.pose_landmarks:\n",
    "                left_wrist = results.pose_landmarks.landmark[mp_pose.PoseLandmark.LEFT_WRIST]\n",
    "                right_hand_y = left_wrist.y * height\n",
    "\n",
    "                if right_hand_y < y_mid:\n",
    "                    pose = \"acc\"\n",
    "                    pydirectinput.keyDown('right')\n",
    "                    pydirectinput.keyUp('left')\n",
    "                elif right_hand_y > y_mid:\n",
    "                    pose = \"brake\"\n",
    "                    pydirectinput.keyUp('right')\n",
    "                    pydirectinput.keyDown('left')\n",
    "        except Exception as e:\n",
    "            print(\"Error:\", e)\n",
    "\n",
    "        cv2.putText(img, pose, (10, 30), cv2.FONT_HERSHEY_PLAIN, 2, (255, 255, 0), 2)\n",
    "        cv2.line(img, (0, y_mid), (width, y_mid), (255, 0, 255), 2)\n",
    "        cv2.imshow('Hill climb racing', img)\n",
    "\n",
    "        if cv2.waitKey(1) == ord('q'):\n",
    "            break\n",
    "\n",
    "cap.release()\n",
    "cv2.destroyAllWindows()"
   ]
  }
 ],
 "metadata": {
  "kernelspec": {
   "display_name": "Python 3 (ipykernel)",
   "language": "python",
   "name": "python3"
  },
  "language_info": {
   "codemirror_mode": {
    "name": "ipython",
    "version": 3
   },
   "file_extension": ".py",
   "mimetype": "text/x-python",
   "name": "python",
   "nbconvert_exporter": "python",
   "pygments_lexer": "ipython3",
   "version": "3.12.7"
  }
 },
 "nbformat": 4,
 "nbformat_minor": 5
}
