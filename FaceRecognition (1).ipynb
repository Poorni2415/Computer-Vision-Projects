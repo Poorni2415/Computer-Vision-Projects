{
 "cells": [
  {
   "cell_type": "code",
   "execution_count": 14,
   "id": "967ea294-0bd3-415b-867f-f9524d387b61",
   "metadata": {},
   "outputs": [],
   "source": [
    "import cv2\n",
    "import numpy as np\n",
    "import os\n",
    "from PIL import Image"
   ]
  },
  {
   "cell_type": "code",
   "execution_count": 23,
   "id": "90e1b73e-6b12-4095-9484-9871701227fc",
   "metadata": {},
   "outputs": [
    {
     "name": "stdout",
     "output_type": "stream",
     "text": [
      "Path to cascade: C:\\Users\\Poorni\\AppData\\Roaming\\Python\\Python312\\site-packages\\cv2\\data\\haarcascade_frontalface_default.xml\n",
      "Exists: True\n"
     ]
    }
   ],
   "source": [
    "    \n",
    "    path = cv2.data.haarcascades + 'haarcascade_frontalface_default.xml'\n",
    "    print(\"Path to cascade:\", path)\n",
    "    print(\"Exists:\", os.path.exists(path))\n"
   ]
  },
  {
   "cell_type": "code",
   "execution_count": 28,
   "id": "17841692-006a-444a-aace-e26448e51ec1",
   "metadata": {},
   "outputs": [],
   "source": [
    "def create_user(face_id,name):\n",
    "    web=cv2.VideoCapture(0)\n",
    "    web.set(3,640)\n",
    "    web.set(4,480)\n",
    "    \n",
    "    face = cv2.CascadeClassifier(cv2.data.haarcascades + 'haarcascade_frontalface_default.xml')\n",
    "    \n",
    "    if face.empty():\n",
    "        print(\"Failed to load Haar Cascade from:\", cascade_path)\n",
    "    web.release()\n",
    "    return\n",
    "    \n",
    "    f_dir='data'\n",
    "    f_name='dst'\n",
    "    path=os.path.join(f_dir,f_name)\n",
    "    if not os.path.exists(f_dir):\n",
    "        os.mkdir(f_dir)\n",
    "    if not os.path.isdir(path):\n",
    "        os.mkdir(path)\n",
    "\n",
    "    counter=0\n",
    "    while(True):\n",
    "        ret,img=web.read()\n",
    "        img=cv2.flip(img,1)\n",
    "        gray=cv2.cvtColor(img,cv2.COLOR_BGR2GRAY)\n",
    "        multi_face=face.detectMultiScale(gray,1.2,5)\n",
    "        for (x,y,w,h) in multi_face:\n",
    "            cv2.rectangle(img, (x,y), (x+w,y+h), (0,0,255),4)\n",
    "            counter+=1\n",
    "\n",
    "            file_path = f\"{path}/{name}.{face_id}.{counter}.jpg\"\n",
    "            cv2.imwrite(file_path, gray[y:y + h, x:x + w])\n",
    "\n",
    "            cv2.imshow(\"Capturing Face\", img)\n",
    "        web.release()\n"
   ]
  },
  {
   "cell_type": "code",
   "execution_count": 29,
   "id": "6f20ef5f-3779-40b1-aea9-817e480f287e",
   "metadata": {},
   "outputs": [],
   "source": [
    "create_user(1,\"Poorni\")"
   ]
  },
  {
   "cell_type": "code",
   "execution_count": 7,
   "id": "b3eae2ae-73c7-4b50-acad-62c1b6b8220e",
   "metadata": {},
   "outputs": [
    {
     "name": "stdout",
     "output_type": "stream",
     "text": [
      "Requirement already satisfied: opencv-contrib-python in c:\\users\\poorni\\appdata\\roaming\\python\\python312\\site-packages (4.12.0.88)\n",
      "Requirement already satisfied: numpy<2.3.0,>=2 in d:\\anaconda\\lib\\site-packages (from opencv-contrib-python) (2.2.6)\n"
     ]
    }
   ],
   "source": [
    "!pip install opencv-contrib-python"
   ]
  },
  {
   "cell_type": "code",
   "execution_count": 21,
   "id": "3549b6e2-3b8d-4fe4-a980-fe9d8d0c4b2a",
   "metadata": {},
   "outputs": [],
   "source": [
    "def train():\n",
    "    db = 'data/dst'  # Full path to where your captured images are stored\n",
    "    recognizer = cv2.face.LBPHFaceRecognizer_create()\n",
    "    detector = cv2.CascadeClassifier(cv2.data.haarcascades + 'haarcascade_frontalface_default.xml')\n",
    "\n",
    "    faceSamples = []\n",
    "    ids = []\n",
    "\n",
    "    # Loop through subfolders in dst (like data/dst/Poorvi)\n",
    "    for root, dirs, files in os.walk(db):\n",
    "        for file in files:\n",
    "            if file.endswith(\".jpg\") or file.endswith(\".png\"):\n",
    "                imagePath = os.path.join(root, file)\n",
    "                PIL_img = Image.open(imagePath).convert('L')  # convert to grayscale\n",
    "                img_numpy = np.array(PIL_img, 'uint8')\n",
    "\n",
    "                try:\n",
    "                    id = int(os.path.split(imagePath)[-1].split('.')[1])\n",
    "                except:\n",
    "                    print(f\"Skipping file with invalid name format: {imagePath}\")\n",
    "                    continue\n",
    "\n",
    "                faces = detector.detectMultiScale(img_numpy)\n",
    "\n",
    "                for (x, y, w, h) in faces:\n",
    "                    faceSamples.append(img_numpy[y:y + h, x:x + w])\n",
    "                    ids.append(id)\n",
    "\n",
    "    if len(faceSamples) == 0:\n",
    "        print(\" No faces found. Make sure images exist in 'data/dst' and are named properly.\")\n",
    "        return 0\n",
    "\n",
    "    recognizer.train(faceSamples, np.array(ids))\n",
    "    recognizer.write('trainer.yml')\n",
    "    print('\\n [INFO] {0} unique face(s) trained. Exiting program.'.format(len(np.unique(ids))))\n",
    "    return len(np.unique(ids))"
   ]
  },
  {
   "cell_type": "code",
   "execution_count": 22,
   "id": "39ed6937-9bf7-40d3-b128-d0c267c97269",
   "metadata": {},
   "outputs": [
    {
     "name": "stdout",
     "output_type": "stream",
     "text": [
      " No faces found. Make sure images exist in 'data/dst' and are named properly.\n"
     ]
    },
    {
     "data": {
      "text/plain": [
       "0"
      ]
     },
     "execution_count": 22,
     "metadata": {},
     "output_type": "execute_result"
    }
   ],
   "source": [
    "train()"
   ]
  },
  {
   "cell_type": "code",
   "execution_count": null,
   "id": "9ae2c14f-f3e9-4445-ab71-436141f9e2de",
   "metadata": {},
   "outputs": [],
   "source": [
    "def recognize(names):\n",
    "    recognizer = cv2.face.LBPHFaceRecognizer_create()\n",
    "    recognizer.read('trainer.yml')\n",
    "\n",
    "    cascadePath = \"haarcascade_frontalface_default.xml\"\n",
    "    faceCascade = cv2.CascadeClassifier(cascadePath)\n",
    "\n",
    "    font = cv2.FONT_HERSHEY_SIMPLEX\n",
    "    id = 0\n",
    "    name = \"\"\n",
    "    face_count = 0\n",
    "\n",
    "    cam = cv2.VideoCapture(0)\n",
    "    cam.set(3,640)\n",
    "    cam.set(4,480)\n",
    "\n",
    "    minW = 0.1*cam.get(3)\n",
    "    minH = 0.1*cam.get(4)\n",
    "    while True:\n",
    "        ret, img = cam.read()\n",
    "        img = cv2.flip(img, 1)\n",
    "        gray = cv2.cvtColor(img, cv2.COLOR_BGR2GRAY)\n",
    "\n",
    "        faces = faceCascade.detectMultiScale(\n",
    "                gray,\n",
    "                scaleFactor = 1.2,\n",
    "                minNeigh = 5,\n",
    "                minSize = (int(minW), int(minH)),\n",
    "            )\n",
    "\n",
    "        for (x,y,w,h) in faces:\n",
    "            cv2.rectangle(img, (x,y), (x+w,y+h), (0,255,0), 2)\n",
    "\n",
    "            id, confidence = recognizer.predict(gray[y:y+h, x:x+w])\n",
    "            if(confidence<70):\n",
    "                id = names[id]\n",
    "            else:\n",
    "                id = 'unknown'\n",
    "                roll = None\n",
    "                confidence = \" {0}%\".format(round(100 - confidence))\n",
    "                text = \"I can't recognize You\"\n",
    "\n",
    "            if  name == id:\n",
    "                face_count += 1\n",
    "                if face_count > 21:\n",
    "                    fount_count = -100\n",
    "            else:\n",
    "                name = id\n",
    "                face_count = 0\n",
    "\n",
    "            cv2.putText(img, str(id), (x + 5, y - 5), font, 1, (255, 255, 255), 2)\n",
    "            cv2.putText(img, str(confidence), (x + 5, y + h - 5), font, 1, (255, 255, 0), 1)\n",
    "\n",
    "        cv2.imshow(\"Camera\", img)"
   ]
  }
 ],
 "metadata": {
  "kernelspec": {
   "display_name": "Python 3 (ipykernel)",
   "language": "python",
   "name": "python3"
  },
  "language_info": {
   "codemirror_mode": {
    "name": "ipython",
    "version": 3
   },
   "file_extension": ".py",
   "mimetype": "text/x-python",
   "name": "python",
   "nbconvert_exporter": "python",
   "pygments_lexer": "ipython3",
   "version": "3.12.7"
  }
 },
 "nbformat": 4,
 "nbformat_minor": 5
}
